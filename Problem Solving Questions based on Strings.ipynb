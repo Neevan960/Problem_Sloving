{
 "cells": [
  {
   "cell_type": "markdown",
   "id": "1e52bd2c",
   "metadata": {},
   "source": [
    "## Problem Solving Questions based on Strings"
   ]
  },
  {
   "cell_type": "markdown",
   "id": "60efc503",
   "metadata": {},
   "source": [
    "### 1.Write a python program to convert a string to lower case"
   ]
  },
  {
   "cell_type": "code",
   "execution_count": 29,
   "id": "4dd322d7",
   "metadata": {
    "scrolled": true
   },
   "outputs": [
    {
     "data": {
      "text/plain": [
       "'naveen'"
      ]
     },
     "execution_count": 29,
     "metadata": {},
     "output_type": "execute_result"
    }
   ],
   "source": [
    "a=\"NaveeN\"\n",
    "a.lower()"
   ]
  },
  {
   "cell_type": "markdown",
   "id": "c6a170fc",
   "metadata": {},
   "source": [
    "### 2.Write a python program to convert only odd indexed characters to lower case\n",
    "### Ex: PYTHON"
   ]
  },
  {
   "cell_type": "code",
   "execution_count": 35,
   "id": "dc322e77",
   "metadata": {},
   "outputs": [
    {
     "name": "stdout",
     "output_type": "stream",
     "text": [
      "PyThOn\n"
     ]
    }
   ],
   "source": [
    "a=\"PYTHON\"\n",
    "b=\"\"\n",
    "for i in range(len(a)):\n",
    "    if i%2!=0:\n",
    "        b=b+a[i].lower()\n",
    "    else:\n",
    "        b=b+a[i]\n",
    "print(b)\n",
    "\n",
    "        "
   ]
  },
  {
   "cell_type": "markdown",
   "id": "0487516e",
   "metadata": {},
   "source": [
    "### 3.Write a python program to convert only even indexed characters to lower case\n",
    "### Ex: PYTHON"
   ]
  },
  {
   "cell_type": "code",
   "execution_count": 15,
   "id": "07fcb7fe",
   "metadata": {},
   "outputs": [
    {
     "name": "stdout",
     "output_type": "stream",
     "text": [
      "pYtHoN\n"
     ]
    }
   ],
   "source": [
    "a=\"PYTHON\"\n",
    "b=\"\"\n",
    "for i in range(len(a)):\n",
    "    if i%2==0:\n",
    "        b=b+a[i].lower()\n",
    "    else:\n",
    "        b=b+a[i]\n",
    "print(b)\n",
    "\n",
    "        "
   ]
  },
  {
   "cell_type": "markdown",
   "id": "894c09fd",
   "metadata": {},
   "source": [
    "### 4.Write a python program to convert only odd indexed characters to upper case\n",
    "### Ex: python"
   ]
  },
  {
   "cell_type": "code",
   "execution_count": 47,
   "id": "f1630e6d",
   "metadata": {},
   "outputs": [
    {
     "name": "stdout",
     "output_type": "stream",
     "text": [
      "pYtHoN\n"
     ]
    }
   ],
   "source": [
    "a=\"python\"\n",
    "b=\"\"\n",
    "for i in range(len(a)):\n",
    "    if i%2!=0:\n",
    "        b=b+a[i].upper()\n",
    "    else:\n",
    "        b=b+a[i]\n",
    "print(b)\n",
    "\n",
    "        "
   ]
  },
  {
   "cell_type": "markdown",
   "id": "66c217ff",
   "metadata": {},
   "source": [
    "### 5.Write a python program to convert only even indexed characters to upper case\n",
    "### Ex: python"
   ]
  },
  {
   "cell_type": "code",
   "execution_count": 10,
   "id": "3b4fc1cc",
   "metadata": {},
   "outputs": [
    {
     "name": "stdout",
     "output_type": "stream",
     "text": [
      "PyThOn\n"
     ]
    }
   ],
   "source": [
    "a=\"python\"\n",
    "b=\"\"\n",
    "for i in range(len(a)):\n",
    "    if i%2==0:\n",
    "        b=b+a[i].upper()\n",
    "    else:\n",
    "        b=b+a[i]\n",
    "print(b)     "
   ]
  },
  {
   "cell_type": "markdown",
   "id": "f37d9a3f",
   "metadata": {},
   "source": [
    "### 6.Write a python program where you have different variable which contains your name, gender, age, phone number, father’s name and mother’s name and by using this variable create a variable named bio-data where you will use all this variable.\n",
    "### Output:- My name is …., My age is ….,My phone-no is ….,my father’s name is …,and my mother’s name is…\n",
    "\n"
   ]
  },
  {
   "cell_type": "code",
   "execution_count": 39,
   "id": "a99ff8ff",
   "metadata": {},
   "outputs": [
    {
     "name": "stdout",
     "output_type": "stream",
     "text": [
      "My name is Naveen,My age is 26,My phone-no is 9032838767,my father’s name is Ravi,and my mother’s name is Puspalatha\n"
     ]
    }
   ],
   "source": [
    "name=\"Naveen\"\n",
    "age=26\n",
    "mobile=9032838767\n",
    "Father=\"Ravi\"\n",
    "Mother=\"Puspalatha\"\n",
    "\n",
    "print(f\"My name is {name},My age is {age},My phone-no is {mobile},my father’s name is {Father},and my mother’s name is {Mother}\")\n"
   ]
  },
  {
   "cell_type": "markdown",
   "id": "d876dcf4",
   "metadata": {},
   "source": [
    "### 7.Write a python program to count how many times “@” occurred\n",
    "### Ex: S@ndhy@"
   ]
  },
  {
   "cell_type": "code",
   "execution_count": 41,
   "id": "25e1617e",
   "metadata": {},
   "outputs": [
    {
     "data": {
      "text/plain": [
       "2"
      ]
     },
     "execution_count": 41,
     "metadata": {},
     "output_type": "execute_result"
    }
   ],
   "source": [
    "a=\"S@ndhy@\"\n",
    "a.count(\"@\")"
   ]
  },
  {
   "cell_type": "markdown",
   "id": "6f133338",
   "metadata": {},
   "source": [
    "### 8.Write a python program to get only names from the string\n"
   ]
  },
  {
   "cell_type": "code",
   "execution_count": 50,
   "id": "31dca28a",
   "metadata": {},
   "outputs": [
    {
     "data": {
      "text/plain": [
       "['name1', 'name2', 'name3']"
      ]
     },
     "execution_count": 50,
     "metadata": {},
     "output_type": "execute_result"
    }
   ],
   "source": [
    "a=\"name1.@gmail.com, name2.@gmail.com, name3.@gmail.com\"\n",
    "import re\n",
    "re.findall(\"\\D{4}\\d\",a)"
   ]
  },
  {
   "cell_type": "markdown",
   "id": "83b1b271",
   "metadata": {},
   "source": [
    "### 9.Write a program to remove vowels from the entire alphabets\n",
    "### Ex: “abcdefghijklmnopqrstuvwxyz”"
   ]
  },
  {
   "cell_type": "code",
   "execution_count": 9,
   "id": "32bce14e",
   "metadata": {},
   "outputs": [
    {
     "name": "stdout",
     "output_type": "stream",
     "text": [
      "bcdfghjklmnpqrstvwxyz"
     ]
    }
   ],
   "source": [
    "a=\"abcdefghijklmnopqrstuvwxyz\"\n",
    "b=[\"a\",\"e\",\"i\",\"o\",\"u\"]\n",
    "for i  in a:\n",
    "    if i not in b:\n",
    "        print(i,end=\"\")"
   ]
  },
  {
   "cell_type": "markdown",
   "id": "c098af93",
   "metadata": {},
   "source": [
    "### 10.Find all occurrences of a substring in a given string by ignoring the case\n"
   ]
  },
  {
   "cell_type": "code",
   "execution_count": 2,
   "id": "ac5d3ff7",
   "metadata": {},
   "outputs": [
    {
     "name": "stdout",
     "output_type": "stream",
     "text": [
      "The innomatics count is: 2\n"
     ]
    }
   ],
   "source": [
    "a=\"Welcome to Innomatics. innomatics awesome, isn't it?\"\n",
    "print(\"The innomatics count is:\",a.lower().count(\"innomatics\") )"
   ]
  },
  {
   "cell_type": "code",
   "execution_count": null,
   "id": "7bcdc979",
   "metadata": {},
   "outputs": [],
   "source": []
  },
  {
   "cell_type": "code",
   "execution_count": null,
   "id": "a3bcf5f5",
   "metadata": {},
   "outputs": [],
   "source": []
  }
 ],
 "metadata": {
  "kernelspec": {
   "display_name": "Python 3 (ipykernel)",
   "language": "python",
   "name": "python3"
  },
  "language_info": {
   "codemirror_mode": {
    "name": "ipython",
    "version": 3
   },
   "file_extension": ".py",
   "mimetype": "text/x-python",
   "name": "python",
   "nbconvert_exporter": "python",
   "pygments_lexer": "ipython3",
   "version": "3.9.12"
  }
 },
 "nbformat": 4,
 "nbformat_minor": 5
}
